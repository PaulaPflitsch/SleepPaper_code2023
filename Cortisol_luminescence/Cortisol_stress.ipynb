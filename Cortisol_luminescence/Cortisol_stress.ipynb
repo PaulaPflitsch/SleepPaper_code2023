{
 "cells": [
  {
   "cell_type": "code",
   "execution_count": 11,
   "id": "faced-observer",
   "metadata": {},
   "outputs": [],
   "source": [
    "import seaborn as sns\n",
    "import matplotlib.pyplot as plt\n",
    "import scipy\n",
    "from scipy import stats\n",
    "import pandas as pd\n",
    "import csv"
   ]
  },
  {
   "cell_type": "code",
   "execution_count": 3,
   "id": "automated-incentive",
   "metadata": {},
   "outputs": [
    {
     "name": "stdout",
     "output_type": "stream",
     "text": [
      "['control ' 'light pulse ' 'continous' 'NaCl_100mM_20min' 'control2'\n",
      " 'NaCl_100mM_50min' 'voltage5V_15min']\n"
     ]
    }
   ],
   "source": [
    "# load file\n",
    "df = pd.read_excel(r'D:\\cortisol_luminescence_cortisol-treatment\\Nadine_SD_data\\cortisol_measured.xlsx')\n",
    "df = df.dropna()\n",
    "df.Treatment.unique()\n",
    "print(df.Treatment.unique())\n",
    "df = df[(df.Treatment=='control ')| (df.Treatment=='light pulse ')|(df.Treatment=='continous')| \n",
    "       (df.Treatment=='control2')|(df.Treatment=='voltage5V_15min')]\n"
   ]
  },
  {
   "cell_type": "code",
   "execution_count": 4,
   "id": "completed-cornwall",
   "metadata": {},
   "outputs": [
    {
     "name": "stdout",
     "output_type": "stream",
     "text": [
      "control mean: Log cortisol (ug/dl)     0.021525\n",
      "cortisol (ug/dl)         1.089202\n",
      "cortisol (ng/ml)        10.892024\n",
      "dtype: float64 control std: Log cortisol (ug/dl)    0.124383\n",
      "cortisol (ug/dl)        0.322890\n",
      "cortisol (ng/ml)        3.228902\n",
      "dtype: float64\n",
      "continous mean: Log cortisol (ug/dl)     0.209450\n",
      "cortisol (ug/dl)         1.783645\n",
      "cortisol (ng/ml)        17.836450\n",
      "dtype: float64 continous std: Log cortisol (ug/dl)    0.210018\n",
      "cortisol (ug/dl)        0.902677\n",
      "cortisol (ng/ml)        9.026765\n",
      "dtype: float64\n",
      "light pulse mean: Log cortisol (ug/dl)     0.191244\n",
      "cortisol (ug/dl)         1.641810\n",
      "cortisol (ng/ml)        16.418100\n",
      "dtype: float64 light pulse std: Log cortisol (ug/dl)    0.152258\n",
      "cortisol (ug/dl)        0.632008\n",
      "cortisol (ng/ml)        6.320084\n",
      "dtype: float64\n",
      "control 2 mean: Log cortisol (ug/dl)   -0.100718\n",
      "cortisol (ug/dl)        0.868888\n",
      "cortisol (ng/ml)        8.688880\n",
      "dtype: float64 control 2 std: Log cortisol (ug/dl)    0.266570\n",
      "cortisol (ug/dl)        0.502181\n",
      "cortisol (ng/ml)        5.021805\n",
      "dtype: float64\n",
      "voltage mean: Log cortisol (ug/dl)     0.601653\n",
      "cortisol (ug/dl)         4.032844\n",
      "cortisol (ng/ml)        40.328438\n",
      "dtype: float64 voltage std: Log cortisol (ug/dl)    0.083049\n",
      "cortisol (ug/dl)        0.766527\n",
      "cortisol (ng/ml)        7.665274\n",
      "dtype: float64\n"
     ]
    }
   ],
   "source": [
    "print(f\"control mean: {df[(df.Treatment=='control ')].mean()} control std: {df[(df.Treatment=='control ')].std()}\")\n",
    "print(f\"continous mean: {df[(df.Treatment=='continous')].mean()} continous std: {df[(df.Treatment=='continous')].std()}\")\n",
    "print(f\"light pulse mean: {df[(df.Treatment=='light pulse ')].mean()} light pulse std: {df[(df.Treatment=='light pulse ')].std()}\")\n",
    "print(f\"control 2 mean: {df[(df.Treatment=='control2')].mean()} control 2 std: {df[(df.Treatment=='control2')].std()}\")\n",
    "print(f\"voltage mean: {df[(df.Treatment=='voltage5V_15min')].mean()} voltage std: {df[(df.Treatment=='voltage5V_15min')].std()}\")\n"
   ]
  },
  {
   "cell_type": "code",
   "execution_count": 5,
   "id": "placed-destruction",
   "metadata": {},
   "outputs": [
    {
     "name": "stdout",
     "output_type": "stream",
     "text": [
      "          Treatment  Log cortisol (ug/dl)  cortisol (ug/dl)  cortisol (ng/ml)\n",
      "0          control               0.000318          1.000733         10.007328\n",
      "1          control              -0.034782          0.923034          9.230341\n",
      "2          control              -0.105067          0.785115          7.851150\n",
      "3          control              -0.126073          0.748044          7.480441\n",
      "4          control               0.084317          1.214274         12.142743\n",
      "5          control               0.112511          1.295719         12.957186\n",
      "6          control               0.219453          1.657498         16.574978\n",
      "7      light pulse               0.218332          1.653224         16.532244\n",
      "8      light pulse               0.112769          1.296490         12.964904\n",
      "9      light pulse               0.109153          1.285738         12.857384\n",
      "10     light pulse              -0.024661          0.944798          9.447979\n",
      "11     light pulse               0.239824          1.737099         17.370986\n",
      "12     light pulse               0.216652          1.646843         16.468426\n",
      "13     light pulse               0.466642          2.928478         29.284776\n",
      "14        continous              0.501901          3.176148         31.761478\n",
      "15        continous              0.041381          1.099971         10.999714\n",
      "16        continous             -0.005281          0.987915          9.879147\n",
      "17        continous              0.175676          1.498566         14.985658\n",
      "18        continous              0.333573          2.155625         21.556251\n",
      "20         control2              0.087775          1.223983         12.239833\n",
      "23         control2             -0.289212          0.513793          5.137928\n",
      "25  voltage5V_15min              0.660378          4.574861         45.748605\n",
      "26  voltage5V_15min              0.542928          3.490827         34.908271\n"
     ]
    }
   ],
   "source": [
    "print(df)"
   ]
  },
  {
   "cell_type": "markdown",
   "id": "written-apparatus",
   "metadata": {},
   "source": [
    "### load second file"
   ]
  },
  {
   "cell_type": "code",
   "execution_count": 24,
   "id": "choice-elite",
   "metadata": {},
   "outputs": [
    {
     "name": "stdout",
     "output_type": "stream",
     "text": [
      "['FS30min_control' 'FS30min _5ngml_cortisol' 'FS30min _100ngml_cortisol'\n",
      " 'FS30min_5ugml_cortisol' 'FS30min _10ugml_cortisol'\n",
      " 'DL_FS30min_diluted100ng' 'DL_FS30min _dilted5ug'\n",
      " 'DL_FS30min_diluted10ug' 'Embed_control' 'Embed _10ugml_cortisol'\n",
      " 'Embed _100ugml_cortisol' 'Embed _free swimming' 'DL_Embed_diluted10ug'\n",
      " 'DL_Embed_diluted100ug' 'FS15min _control' 'FS15min _100ngml_cortisol'\n",
      " 'FS15min_5ugml_cortisol' 'FS15min_10ugml_cortisol'\n",
      " 'DL_FS15 min_diluted100ng' 'DL_FS15min_diluted5ug'\n",
      " 'DL_FS15min_diluted10ug' 'ctrl1' 'ctrl2']\n"
     ]
    }
   ],
   "source": [
    "# load second file\n",
    "# focus on free swimming 30 minute treatment\n",
    "df_cort = pd.read_excel(r'D:\\cortisol_luminescence_cortisol-treatment\\interpolated_output.xlsx')\n",
    "df_cort = df_cort.dropna()\n",
    "df_cort.Treatment.unique()\n",
    "print(df_cort.Treatment.unique())"
   ]
  },
  {
   "cell_type": "code",
   "execution_count": 25,
   "id": "rubber-router",
   "metadata": {},
   "outputs": [
    {
     "name": "stdout",
     "output_type": "stream",
     "text": [
      "                   Treatment  cortisol (ug/dl)  cortisol (ng/ml)\n",
      "0            FS30min_control          0.290663          2.906627\n",
      "1    FS30min _5ngml_cortisol          0.245077          2.450766\n",
      "2  FS30min _100ngml_cortisol          0.335640          3.356395\n",
      "3     FS30min_5ugml_cortisol          0.990192          9.901922\n",
      "4   FS30min _10ugml_cortisol          1.587634         15.876337\n"
     ]
    }
   ],
   "source": [
    "# create df just for subgroups \n",
    "df_int = df_cort[['Treatment','cortisol (ug/dl)','cortisol (ng/ml)']].copy()\n",
    "df_fs30 = df_int[df_int['Treatment'].str.startswith('FS30mi')]\n",
    "print(df_fs30)"
   ]
  },
  {
   "cell_type": "code",
   "execution_count": 26,
   "id": "polished-solomon",
   "metadata": {},
   "outputs": [
    {
     "name": "stdout",
     "output_type": "stream",
     "text": [
      "                    Treatment  Log cortisol (ug/dl)  cortisol (ug/dl)  \\\n",
      "0                    control               0.000318          1.000733   \n",
      "1                    control              -0.034782          0.923034   \n",
      "2                    control              -0.105067          0.785115   \n",
      "3                    control              -0.126073          0.748044   \n",
      "4                    control               0.084317          1.214274   \n",
      "5                    control               0.112511          1.295719   \n",
      "6                    control               0.219453          1.657498   \n",
      "7                light pulse               0.218332          1.653224   \n",
      "8                light pulse               0.112769          1.296490   \n",
      "9                light pulse               0.109153          1.285738   \n",
      "10               light pulse              -0.024661          0.944798   \n",
      "11               light pulse               0.239824          1.737099   \n",
      "12               light pulse               0.216652          1.646843   \n",
      "13               light pulse               0.466642          2.928478   \n",
      "14                  continous              0.501901          3.176148   \n",
      "15                  continous              0.041381          1.099971   \n",
      "16                  continous             -0.005281          0.987915   \n",
      "17                  continous              0.175676          1.498566   \n",
      "18                  continous              0.333573          2.155625   \n",
      "19                   control2              0.087775          1.223983   \n",
      "20                   control2             -0.289212          0.513793   \n",
      "21            voltage5V_15min              0.660378          4.574861   \n",
      "22            voltage5V_15min              0.542928          3.490827   \n",
      "23            FS30min_control                   NaN          0.290663   \n",
      "24    FS30min _5ngml_cortisol                   NaN          0.245077   \n",
      "25  FS30min _100ngml_cortisol                   NaN          0.335640   \n",
      "26     FS30min_5ugml_cortisol                   NaN          0.990192   \n",
      "27   FS30min _10ugml_cortisol                   NaN          1.587634   \n",
      "\n",
      "    cortisol (ng/ml)  \n",
      "0          10.007328  \n",
      "1           9.230341  \n",
      "2           7.851150  \n",
      "3           7.480441  \n",
      "4          12.142743  \n",
      "5          12.957186  \n",
      "6          16.574978  \n",
      "7          16.532244  \n",
      "8          12.964904  \n",
      "9          12.857384  \n",
      "10          9.447979  \n",
      "11         17.370986  \n",
      "12         16.468426  \n",
      "13         29.284776  \n",
      "14         31.761478  \n",
      "15         10.999714  \n",
      "16          9.879147  \n",
      "17         14.985658  \n",
      "18         21.556251  \n",
      "19         12.239833  \n",
      "20          5.137928  \n",
      "21         45.748605  \n",
      "22         34.908271  \n",
      "23          2.906627  \n",
      "24          2.450766  \n",
      "25          3.356395  \n",
      "26          9.901922  \n",
      "27         15.876337  \n"
     ]
    }
   ],
   "source": [
    "#concatenate data frames\n",
    "df3 = df.append(df_fs30, ignore_index=True)\n",
    "print(df3)"
   ]
  },
  {
   "cell_type": "code",
   "execution_count": 9,
   "id": "white-combining",
   "metadata": {},
   "outputs": [
    {
     "data": {
      "image/png": "[encoded data removed]",
      "text/plain": [
       "<Figure size 864x360 with 1 Axes>"
      ]
     },
     "metadata": {
      "needs_background": "light"
     },
     "output_type": "display_data"
    }
   ],
   "source": [
    "ax = plt.subplots(figsize =(12,5))\n",
    "ax = sns.boxplot(x='Treatment', y='cortisol (ng/ml)', data=df3, dodge=True, color=\"grey\")\n",
    "ax = sns.swarmplot(x='Treatment', y='cortisol (ng/ml)', \n",
    "                          data=df3, dodge=True, color=\"black\")\n",
    "\n",
    "sns.despine()\n",
    "ax.set(xlabel=\"\", ylabel = \"Cortisol concentration (ng/ml)\")\n",
    "plt.savefig(r'D:\\cortisol_luminescence_cortisol-treatment\\plots\\cortisol_treatment_boxplot.pdf')\n"
   ]
  },
  {
   "cell_type": "code",
   "execution_count": 14,
   "id": "accurate-chester",
   "metadata": {},
   "outputs": [
    {
     "data": {
      "text/plain": [
       "Ttest_indResult(statistic=-2.060075251438774, pvalue=0.030881322745542148)"
      ]
     },
     "execution_count": 14,
     "metadata": {},
     "output_type": "execute_result"
    }
   ],
   "source": [
    "#define samples\n",
    "group1 = df[df['Treatment']=='control ']\n",
    "group2 = df[df['Treatment']=='light pulse ']\n",
    "\n",
    "#perform independent two sample t-test\n",
    "stats.ttest_ind(group1['cortisol (ng/ml)'], group2['cortisol (ng/ml)'],alternative ='less')"
   ]
  },
  {
   "cell_type": "code",
   "execution_count": 16,
   "id": "continent-present",
   "metadata": {},
   "outputs": [
    {
     "data": {
      "text/plain": [
       "Ttest_indResult(statistic=-1.9027980758291383, pvalue=0.043111804743258327)"
      ]
     },
     "execution_count": 16,
     "metadata": {},
     "output_type": "execute_result"
    }
   ],
   "source": [
    "group1 = df[df['Treatment']=='control ']\n",
    "group2 = df[df['Treatment']=='continous']\n",
    "\n",
    "#perform independent two sample t-test\n",
    "stats.ttest_ind(group1['cortisol (ng/ml)'], group2['cortisol (ng/ml)'], alternative ='less')"
   ]
  },
  {
   "cell_type": "code",
   "execution_count": 18,
   "id": "imported-lotus",
   "metadata": {},
   "outputs": [
    {
     "data": {
      "text/plain": [
       "Ttest_indResult(statistic=-4.882817748197225, pvalue=0.019738004484253)"
      ]
     },
     "execution_count": 18,
     "metadata": {},
     "output_type": "execute_result"
    }
   ],
   "source": [
    "group1 = df[df['Treatment']=='control2']\n",
    "group2 = df[df['Treatment']=='voltage5V_15min']\n",
    "\n",
    "#perform independent two sample t-test\n",
    "stats.ttest_ind(group1['cortisol (ng/ml)'], group2['cortisol (ng/ml)'],alternative ='less')"
   ]
  },
  {
   "cell_type": "code",
   "execution_count": 27,
   "id": "valued-fossil",
   "metadata": {},
   "outputs": [
    {
     "data": {
      "text/plain": [
       "Ttest_indResult(statistic=nan, pvalue=nan)"
      ]
     },
     "execution_count": 27,
     "metadata": {},
     "output_type": "execute_result"
    }
   ],
   "source": [
    "group1 = df[df['Treatment']=='FS30min_control']\n",
    "group2 = df[df['Treatment']=='FS30min _5ngml_cortisol']\n",
    "\n",
    "#perform independent two sample t-test\n",
    "stats.ttest_ind(group1['cortisol (ng/ml)'], group2['cortisol (ng/ml)'],alternative ='less')"
   ]
  },
  {
   "cell_type": "code",
   "execution_count": 20,
   "id": "valued-vaccine",
   "metadata": {},
   "outputs": [
    {
     "data": {
      "text/plain": [
       "Ttest_indResult(statistic=nan, pvalue=nan)"
      ]
     },
     "execution_count": 20,
     "metadata": {},
     "output_type": "execute_result"
    }
   ],
   "source": [
    "group1 = df[df['Treatment']=='FS30min - control']\n",
    "group2 = df[df['Treatment']=='FS30min - 100ng/ml cortisol']\n",
    "\n",
    "#perform independent two sample t-test\n",
    "stats.ttest_ind(group1['cortisol (ng/ml)'], group2['cortisol (ng/ml)'],alternative ='less')"
   ]
  },
  {
   "cell_type": "code",
   "execution_count": 35,
   "id": "demonstrated-shipping",
   "metadata": {},
   "outputs": [
    {
     "data": {
      "text/plain": [
       "Ttest_1sampResult(statistic=Series([], Name: cortisol (ng/ml), dtype: float64), pvalue=array([], dtype=float64))"
      ]
     },
     "execution_count": 35,
     "metadata": {},
     "output_type": "execute_result"
    }
   ],
   "source": [
    "group1 = df[df['Treatment']=='FS30min_control']\n",
    "group2 = df[df['Treatment']=='FS30min _10ugml_cortisol']\n",
    "\n",
    "\n",
    "#perform independent two sample t-test\n",
    "stats.ttest_1samp(group1['cortisol (ng/ml)'], group2['cortisol (ng/ml)'],alternative ='less')"
   ]
  },
  {
   "cell_type": "code",
   "execution_count": null,
   "id": "traditional-romantic",
   "metadata": {},
   "outputs": [],
   "source": []
  }
 ],
 "metadata": {
  "kernelspec": {
   "display_name": "Python 3",
   "language": "python",
   "name": "python3"
  },
  "language_info": {
   "codemirror_mode": {
    "name": "ipython",
    "version": 3
   },
   "file_extension": ".py",
   "mimetype": "text/x-python",
   "name": "python",
   "nbconvert_exporter": "python",
   "pygments_lexer": "ipython3",
   "version": "3.7.9"
  }
 },
 "nbformat": 4,
 "nbformat_minor": 5
}
